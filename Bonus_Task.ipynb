{
  "nbformat": 4,
  "nbformat_minor": 0,
  "metadata": {
    "colab": {
      "provenance": []
    },
    "kernelspec": {
      "name": "python3",
      "display_name": "Python 3"
    },
    "language_info": {
      "name": "python"
    }
  },
  "cells": [
    {
      "cell_type": "code",
      "execution_count": null,
      "metadata": {
        "id": "MR8fmQMXpiUu",
        "colab": {
          "base_uri": "https://localhost:8080/"
        },
        "outputId": "8ee9bb09-b98c-4438-8d62-0947b210ad06"
      },
      "outputs": [
        {
          "output_type": "stream",
          "name": "stdout",
          "text": [
            "Drive already mounted at /content/drive/; to attempt to forcibly remount, call drive.mount(\"/content/drive/\", force_remount=True).\n"
          ]
        }
      ],
      "source": [
        "from google.colab import drive \n",
        "drive.mount('/content/drive/')"
      ]
    },
    {
      "cell_type": "code",
      "source": [
        "!pip install gymnasium matplotlib numpy optuna\n",
        "from google.colab import widgets\n",
        "import gymnasium as gym\n",
        "from gymnasium import spaces\n",
        "import matplotlib.pyplot as plt\n",
        "import numpy as np\n",
        "import time\n",
        "import optuna\n",
        "from collections import defaultdict"
      ],
      "metadata": {
        "colab": {
          "base_uri": "https://localhost:8080/"
        },
        "id": "9TDG_eSPpnDL",
        "outputId": "3ccc8aff-4a38-459e-fdfd-11bff2be1bcc"
      },
      "execution_count": null,
      "outputs": [
        {
          "output_type": "stream",
          "name": "stdout",
          "text": [
            "Looking in indexes: https://pypi.org/simple, https://us-python.pkg.dev/colab-wheels/public/simple/\n",
            "Requirement already satisfied: gymnasium in /usr/local/lib/python3.10/dist-packages (0.28.1)\n",
            "Requirement already satisfied: matplotlib in /usr/local/lib/python3.10/dist-packages (3.7.1)\n",
            "Requirement already satisfied: numpy in /usr/local/lib/python3.10/dist-packages (1.22.4)\n",
            "Requirement already satisfied: optuna in /usr/local/lib/python3.10/dist-packages (3.1.1)\n",
            "Requirement already satisfied: jax-jumpy>=1.0.0 in /usr/local/lib/python3.10/dist-packages (from gymnasium) (1.0.0)\n",
            "Requirement already satisfied: cloudpickle>=1.2.0 in /usr/local/lib/python3.10/dist-packages (from gymnasium) (2.2.1)\n",
            "Requirement already satisfied: typing-extensions>=4.3.0 in /usr/local/lib/python3.10/dist-packages (from gymnasium) (4.5.0)\n",
            "Requirement already satisfied: farama-notifications>=0.0.1 in /usr/local/lib/python3.10/dist-packages (from gymnasium) (0.0.4)\n",
            "Requirement already satisfied: contourpy>=1.0.1 in /usr/local/lib/python3.10/dist-packages (from matplotlib) (1.0.7)\n",
            "Requirement already satisfied: cycler>=0.10 in /usr/local/lib/python3.10/dist-packages (from matplotlib) (0.11.0)\n",
            "Requirement already satisfied: fonttools>=4.22.0 in /usr/local/lib/python3.10/dist-packages (from matplotlib) (4.39.3)\n",
            "Requirement already satisfied: kiwisolver>=1.0.1 in /usr/local/lib/python3.10/dist-packages (from matplotlib) (1.4.4)\n",
            "Requirement already satisfied: packaging>=20.0 in /usr/local/lib/python3.10/dist-packages (from matplotlib) (23.1)\n",
            "Requirement already satisfied: pillow>=6.2.0 in /usr/local/lib/python3.10/dist-packages (from matplotlib) (8.4.0)\n",
            "Requirement already satisfied: pyparsing>=2.3.1 in /usr/local/lib/python3.10/dist-packages (from matplotlib) (3.0.9)\n",
            "Requirement already satisfied: python-dateutil>=2.7 in /usr/local/lib/python3.10/dist-packages (from matplotlib) (2.8.2)\n",
            "Requirement already satisfied: alembic>=1.5.0 in /usr/local/lib/python3.10/dist-packages (from optuna) (1.10.4)\n",
            "Requirement already satisfied: cmaes>=0.9.1 in /usr/local/lib/python3.10/dist-packages (from optuna) (0.9.1)\n",
            "Requirement already satisfied: colorlog in /usr/local/lib/python3.10/dist-packages (from optuna) (6.7.0)\n",
            "Requirement already satisfied: sqlalchemy>=1.3.0 in /usr/local/lib/python3.10/dist-packages (from optuna) (2.0.10)\n",
            "Requirement already satisfied: tqdm in /usr/local/lib/python3.10/dist-packages (from optuna) (4.65.0)\n",
            "Requirement already satisfied: PyYAML in /usr/local/lib/python3.10/dist-packages (from optuna) (6.0)\n",
            "Requirement already satisfied: Mako in /usr/local/lib/python3.10/dist-packages (from alembic>=1.5.0->optuna) (1.2.4)\n",
            "Requirement already satisfied: six>=1.5 in /usr/local/lib/python3.10/dist-packages (from python-dateutil>=2.7->matplotlib) (1.16.0)\n",
            "Requirement already satisfied: greenlet!=0.4.17 in /usr/local/lib/python3.10/dist-packages (from sqlalchemy>=1.3.0->optuna) (2.0.2)\n",
            "Requirement already satisfied: MarkupSafe>=0.9.2 in /usr/local/lib/python3.10/dist-packages (from Mako->alembic>=1.5.0->optuna) (2.1.2)\n"
          ]
        }
      ]
    },
    {
      "cell_type": "code",
      "source": [
        "ACTION_LOOKUP= {0: 'Down', 1: 'Up', 2: 'Right', 3: 'Left'}\n",
        "\n",
        "AGENT_POS= [0, 3]\n",
        "STAR_POS= [1, 0]\n",
        "MASHROOM_POS= [3, 2]\n",
        "BOO_POS= [1, 1]\n",
        "BOMB_POS= [2, 2]\n",
        "GOAL_POS= [3, 0]"
      ],
      "metadata": {
        "id": "PZ2IwLUQp7kA"
      },
      "execution_count": null,
      "outputs": []
    },
    {
      "cell_type": "code",
      "source": [
        "STATE_LOCATION = {(i, j): k for k, (i, j) in enumerate([(i, j) for i in range(4) for j in range(4)])}"
      ],
      "metadata": {
        "id": "6He_vd7-f8IO"
      },
      "execution_count": null,
      "outputs": []
    },
    {
      "cell_type": "code",
      "source": [
        "class SuperMarioEnvironment(gym.Env):\n",
        "    metadata = { 'render.modes': [] }\n",
        "    \n",
        "    def __init__(self):\n",
        "\n",
        "        self.observation_space = spaces.Discrete(16)\n",
        "        self.action_space = spaces.Discrete(4)\n",
        "        self.max_timesteps = 50\n",
        "\n",
        "        self.timestep = 0\n",
        "\n",
        "        self.agent_pos = AGENT_POS.copy()\n",
        "        self.goal_pos = GOAL_POS.copy()\n",
        "        self.star_pos = STAR_POS.copy()\n",
        "        self.mashroom_pos = MASHROOM_POS.copy()\n",
        "        self.boo_pos = BOO_POS.copy()\n",
        "        self.bomb_pos = BOMB_POS.copy()\n",
        "\n",
        "\n",
        "        self.star_awarded, self.mashroom_awarded,self.boo_awarded,self.bomb_awarded = False,False,False,False\n",
        "\n",
        "        self.state = np.zeros((4,4))\n",
        "        self.state[tuple(self.agent_pos)] = 1\n",
        "        self.state[tuple(self.star_pos)] = 6\n",
        "        self.state[tuple(self.mashroom_pos)] = 5\n",
        "        self.state[tuple(self.boo_pos)] = -3\n",
        "        self.state[tuple(self.bomb_pos)] = -6\n",
        "        self.state[tuple(self.goal_pos)] = 10\n",
        "\n",
        "\n",
        "\n",
        "        self.goal_img = plt.imread('/content/drive/My Drive/ML Assignment 3/Images/princess.jpeg')\n",
        "\n",
        "        self.agent_img = plt.imread('/content/drive/My Drive/ML Assignment 3/Images/mario.png')\n",
        "\n",
        "        self.star_img = plt.imread('/content/drive/My Drive/ML Assignment 3/Images/mario-star.jpeg')\n",
        "        self.mashroom_img = plt.imread('/content/drive/My Drive/ML Assignment 3/Images/mashroom.png')\n",
        "        self.boo_img = plt.imread('/content/drive/My Drive/ML Assignment 3/Images/boo.jpeg')\n",
        "        self.bomb_img = plt.imread('/content/drive/My Drive/ML Assignment 3/Images/bomb.jpeg')\n",
        "\n",
        "        \n",
        "    def reset(self, **kwargs):\n",
        "\n",
        "        self.timestep = 0\n",
        "        \n",
        "        self.agent_pos = AGENT_POS.copy()\n",
        "        self.goal_pos = GOAL_POS.copy()\n",
        "        self.star_pos = STAR_POS.copy()\n",
        "        self.mashroom_pos = MASHROOM_POS.copy()\n",
        "        self.boo_pos = BOO_POS.copy()\n",
        "        self.bomb_pos = BOMB_POS.copy()\n",
        "\n",
        "        self.star_awarded, self.mashroom_awarded,self.boo_awarded,self.bomb_awarded = False, False, False, False\n",
        "\n",
        "        self.state = np.zeros((4,4))\n",
        "        self.state[tuple(self.agent_pos)] = 1\n",
        "        self.state[tuple(self.star_pos)] = 6\n",
        "        self.state[tuple(self.mashroom_pos)] = 5\n",
        "        self.state[tuple(self.boo_pos)] = -3\n",
        "        self.state[tuple(self.bomb_pos)] = -6\n",
        "        self.state[tuple(self.goal_pos)] = 10\n",
        "\n",
        "        observation = self.state.flatten()\n",
        "\n",
        "        info = {}\n",
        "\n",
        "        return observation, info, STATE_LOCATION[tuple(self.agent_pos)]\n",
        "    \n",
        "    def step(self, action):\n",
        "\n",
        "        if action == 0:\n",
        "          self.agent_pos[0] += 1\n",
        "        if action == 1:\n",
        "          self.agent_pos[0] -= 1\n",
        "        if action == 2:\n",
        "          self.agent_pos[1] += 1\n",
        "        if action == 3:\n",
        "          self.agent_pos[1] -= 1\n",
        "\n",
        "        \n",
        "        self.agent_pos = np.clip(self.agent_pos, 0, 3)\n",
        "\n",
        "        self.state[tuple(self.agent_pos)] = 1\n",
        "        self.state[tuple(self.star_pos)] = 6\n",
        "        self.state[tuple(self.mashroom_pos)] = 5\n",
        "        self.state[tuple(self.boo_pos)] = -3\n",
        "        self.state[tuple(self.bomb_pos)] = -6\n",
        "        self.state[tuple(self.goal_pos)] = 10\n",
        "\n",
        "        observation = self.state.flatten()\n",
        "        \n",
        "        reward = 0\n",
        "        if (self.agent_pos == self.star_pos).all():\n",
        "          if not self.star_awarded:\n",
        "            reward += 6\n",
        "            self.star_awarded = True\n",
        "        if (self.agent_pos == self.mashroom_pos).all():\n",
        "          if not self.mashroom_awarded:\n",
        "            reward += 5\n",
        "            self.mashroom_awarded = True\n",
        "        \n",
        "        if (self.agent_pos == self.boo_pos).all():\n",
        "\n",
        "          if not self.boo_awarded:\n",
        "            reward -= 5\n",
        "            self.boo_awarded = True\n",
        "        \n",
        "        if (self.agent_pos == self.bomb_pos).all():\n",
        "          if not self.bomb_awarded:\n",
        "            reward -= 6\n",
        "            self.bomb_awarded = True\n",
        "        \n",
        "        if (self.agent_pos == self.goal_pos).all():\n",
        "          reward += 10\n",
        "        \n",
        "        #print(reward)\n",
        "        \n",
        "        self.timestep += 1\n",
        "\n",
        "        terminated = True if ((self.timestep >= self.max_timesteps) or (self.agent_pos == self.goal_pos).all()) else False\n",
        "        \n",
        "        truncated = True if np.all((self.agent_pos >=0 ) & (self.agent_pos <= 3)) else False\n",
        "\n",
        "        info = {}\n",
        "        \n",
        "        #return observation, reward, terminated, truncated, info, self.agent_pos\n",
        "\n",
        "        return STATE_LOCATION[tuple(self.agent_pos)],reward, terminated, info, self.agent_pos\n",
        "        \n",
        "    def render(self):\n",
        "\n",
        "        #plt.imshow(self.state)\n",
        "        fig, ax = plt.subplots()\n",
        "\n",
        "        \n",
        "        ax.imshow(self.agent_img, extent=[self.agent_pos[1], self.agent_pos[1]+1, self.state.shape[0]-self.agent_pos[0]-1, self.state.shape[0]-self.agent_pos[0]])\n",
        "\n",
        "        ax.imshow(self.goal_img, extent=[self.goal_pos[1], self.goal_pos[1]+1, self.state.shape[0]-self.goal_pos[0]-1, self.state.shape[0]-self.goal_pos[0]])\n",
        "\n",
        "        if not self.star_awarded:\n",
        "          ax.imshow(self.star_img, extent=[self.star_pos[1], self.star_pos[1]+1, self.state.shape[0]-self.star_pos[0]-1, self.state.shape[0]-self.star_pos[0]])\n",
        "        if not self.mashroom_awarded:\n",
        "          ax.imshow(self.mashroom_img, extent=[self.mashroom_pos[1], self.mashroom_pos[1]+1, self.state.shape[0]-self.mashroom_pos[0]-1, self.state.shape[0]-self.mashroom_pos[0]])\n",
        "        if not self.boo_awarded:\n",
        "          ax.imshow(self.boo_img, extent=[self.boo_pos[1], self.boo_pos[1]+1, self.state.shape[0]-self.boo_pos[0]-1, self.state.shape[0]-self.boo_pos[0]])\n",
        "        if not self.bomb_awarded:\n",
        "          ax.imshow(self.bomb_img, extent=[self.bomb_pos[1], self.bomb_pos[1]+1, self.state.shape[0]-self.bomb_pos[0]-1, self.state.shape[0]-self.bomb_pos[0]])\n",
        "\n",
        "\n",
        "        \n",
        "        ax.set_xlim([0, self.state.shape[1]])\n",
        "        ax.set_ylim([0, self.state.shape[0]])\n",
        "        plt.show()"
      ],
      "metadata": {
        "id": "_9Qk7C-of-bl"
      },
      "execution_count": null,
      "outputs": []
    },
    {
      "cell_type": "code",
      "source": [
        "class RandomAgent:\n",
        "  def __init__(self, env):\n",
        "    self.env = env\n",
        "    self.observation_space = env.observation_space\n",
        "    self.action_space = env.action_space\n",
        "\n",
        "  def step(self, obs):\n",
        "    return np.random.choice(self.action_space.n)"
      ],
      "metadata": {
        "id": "LulgHlRBgAya"
      },
      "execution_count": null,
      "outputs": []
    },
    {
      "cell_type": "markdown",
      "source": [
        "## SARSA Bootstraping"
      ],
      "metadata": {
        "id": "KbiPbNNugO6L"
      }
    },
    {
      "cell_type": "code",
      "source": [
        "class nStepSARSA(RandomAgent):\n",
        "    \n",
        "    def __init__(self, env, discount_rate, learning_rate, epsilon):\n",
        "        super().__init__(env)\n",
        "\n",
        "        self.epsilon= epsilon\n",
        "        self.gamma= discount_rate\n",
        "        self.alpha= learning_rate\n",
        "        self.Q = np.zeros((self.observation_space.n, self.action_space.n))\n",
        "        self.N = np.zeros((self.observation_space.n, self.action_space.n))\n",
        "        self.prev_state = None\n",
        "        self.prev_action = None\n",
        "\n",
        "    def step(self, state:int):\n",
        "        Q_state= self.Q[state]\n",
        "        greedy_action= np.argmax(Q_state)\n",
        "        random_action= super().step(state)\n",
        "\n",
        "        return random_action if np.random.random() < self.epsilon else greedy_action\n",
        "\n",
        "    # def train(self, experience: tuple):\n",
        "    #     state, action, next_state, next_action, reward, done = experience\n",
        "    #     next_Q = self.Q[next_state, next_action]\n",
        "    #     if not done:\n",
        "    #         next_next_action = self.step(next_state)\n",
        "    #         next_next_Q = self.Q[next_state, next_next_action]\n",
        "    #         next_Q = reward + self.gamma * next_next_Q\n",
        "    #     target = next_Q * (1 - int(done)) + reward * int(done)\n",
        "    #     error = target - self.Q[state, action]\n",
        "    #     self.Q[state, action] += self.alpha * error\n",
        "    #     if done:\n",
        "    #         self.epsilon *= 0.99\n",
        "    def train(self, experience):\n",
        "      state, action, next_state, next_action, reward, done = experience\n",
        "      \n",
        "      next_Q = self.Q[next_state, next_action]\n",
        "      if not done:\n",
        "          next_next_action = self.step(next_state)\n",
        "          next_next_Q = self.Q[next_state, next_next_action]\n",
        "          next_Q += self.gamma * next_next_Q\n",
        "\n",
        "      target = reward + self.gamma * next_Q * (1 - done)\n",
        "      self.Q[state, action] += self.alpha * (target - self.Q[state, action])\n",
        "\n",
        "\n",
        "      if done:\n",
        "          self.epsilon *= 0.99\n"
      ],
      "metadata": {
        "id": "GLXYhd-rzhwe"
      },
      "execution_count": null,
      "outputs": []
    },
    {
      "cell_type": "code",
      "source": [
        "configs = [\n",
        "    {'episodes':500, 'discount_rate' : 0.9, 'learning_rate' : 0.1, 'epsilon':0.9},\n",
        "]"
      ],
      "metadata": {
        "id": "_ml9C5do3CzA"
      },
      "execution_count": null,
      "outputs": []
    },
    {
      "cell_type": "code",
      "source": [
        "\n",
        "superMario = SuperMarioEnvironment()\n",
        "SARSA_2Step_agent = nStepSARSA(env= superMario, discount_rate = configs[0]['discount_rate'], learning_rate = configs[0]['learning_rate'], epsilon= configs[0]['epsilon'])\n",
        "\n",
        "reached, not_reached, total_reward = 0, 0, 0\n",
        "\n",
        "epsilon_decay_list = []\n",
        "episode_reward_list = []\n",
        "episode_timestep_list = []\n",
        "\n",
        "for each_episode in range(configs[0]['episodes']):\n",
        "  \n",
        "  state = superMario.reset()[2]\n",
        "  done= False\n",
        "  reward_per_episode= 0\n",
        "  timestep_per_episode= 0\n",
        "  action = SARSA_2Step_agent.step(state = state)\n",
        "  while not done:\n",
        "    \n",
        "\n",
        "    next_state, reward, done, info, _= superMario.step(action = action)\n",
        "    next_action= SARSA_2Step_agent.step(state= next_state)\n",
        "\n",
        "    SARSA_2Step_agent.train(experience= (state, action, next_state, next_action, reward, done))\n",
        "    state= next_state\n",
        "    action= next_action\n",
        "\n",
        "    reward_per_episode += reward\n",
        "    total_reward += reward\n",
        "    timestep_per_episode += 1\n",
        "\n",
        "  episode_timestep_list.append(timestep_per_episode)\n",
        "  epsilon_decay_list.append(SARSA_2Step_agent.epsilon)\n",
        "  episode_reward_list.append(reward_per_episode)\n",
        "\n",
        "  if done == True and superMario.timestep < 50:\n",
        "    reached += 1\n",
        "  elif done == True and superMario.timestep == 50:\n",
        "    not_reached += 1\n",
        "\n",
        "print('Goal Reached: {} & Goal Not reached: {}'.format(reached, not_reached))\n"
      ],
      "metadata": {
        "colab": {
          "base_uri": "https://localhost:8080/"
        },
        "id": "_bLcgpem3AsW",
        "outputId": "62676846-df88-45fd-99a1-d64cae372a66"
      },
      "execution_count": null,
      "outputs": [
        {
          "output_type": "stream",
          "name": "stdout",
          "text": [
            "Goal Reached: 93 & Goal Not reached: 407\n"
          ]
        }
      ]
    },
    {
      "cell_type": "code",
      "source": [
        "plt.title('Cumulative reward per episode')\n",
        "plt.plot(episode_reward_list)\n",
        "plt.xlabel('Episodes')\n",
        "plt.ylabel('Reward')"
      ],
      "metadata": {
        "colab": {
          "base_uri": "https://localhost:8080/",
          "height": 489
        },
        "id": "qNq1Kz-Dmsh1",
        "outputId": "1fbc39d5-df45-4f40-9f74-7734b259263d"
      },
      "execution_count": null,
      "outputs": [
        {
          "output_type": "execute_result",
          "data": {
            "text/plain": [
              "Text(0, 0.5, 'Reward')"
            ]
          },
          "metadata": {},
          "execution_count": 80
        },
        {
          "output_type": "display_data",
          "data": {
            "text/plain": [
              "<Figure size 640x480 with 1 Axes>"
            ],
            "image/png": "[encoded data removed]"
          },
          "metadata": {}
        }
      ]
    },
    {
      "cell_type": "markdown",
      "source": [
        "# SARSA worked efficiently better than 2 step SARSA.\n",
        "\n",
        "\n",
        "1.   SARSA worked efficiently while collecting rewards for this particular problem.\n",
        "\n"
      ],
      "metadata": {
        "id": "7a1J5Wk83RpR"
      }
    }
  ]
}